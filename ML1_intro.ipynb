{
 "cells": [
  {
   "cell_type": "markdown",
   "metadata": {},
   "source": [
    "# What is machine learning?"
   ]
  },
  {
   "cell_type": "markdown",
   "metadata": {},
   "source": [
    "## Artificial Intelligence (AI) vs. Machine Learning"
   ]
  },
  {
   "cell_type": "markdown",
   "metadata": {},
   "source": [
    "What is learning?\n",
    "\n",
    "”*The activity or process of gaining knowledge or skill by studying,\n",
    "practicing, being taught, or experiencing something.*”\n",
    "\n",
    "Merriam Webster dictionary"
   ]
  },
  {
   "cell_type": "markdown",
   "metadata": {},
   "source": [
    "Artificial intelligence (AI) and machine learning are often used interchangeably, but `machine learning (ML) is a subset of` the broader category `of AI`."
   ]
  },
  {
   "cell_type": "markdown",
   "metadata": {},
   "source": [
    "1. **AI** refers to the `general ability of computers to emulate human thought and perform tasks` in real-world environments, \n",
    "\n",
    "2. while `ML` refers to the `Technologies and Algorithms `that enable systems to \n",
    "* identify patterns, \n",
    "* make decisions, \n",
    "* and improve themselves through experience and data. "
   ]
  },
  {
   "cell_type": "markdown",
   "metadata": {},
   "source": [
    "ML (as a subcategory of AI) uses algorithms to \n",
    "* automatically learn insights and recognize patterns from data, \n",
    "* applying that learning to make increasingly better decisions."
   ]
  },
  {
   "cell_type": "markdown",
   "metadata": {},
   "source": [
    "**Machine learning approach**: program an algorithm to\n",
    "automatically learn from data, or from experience"
   ]
  },
  {
   "cell_type": "markdown",
   "metadata": {},
   "source": [
    "Arthur Samuel (~1950-60), a computer scientist who pioneered the study of artificial intelligence, said that machine learning is \n",
    "\n",
    "\"*the study that gives computers the ability to learn without being explicitly programmed*.\""
   ]
  },
  {
   "cell_type": "markdown",
   "metadata": {},
   "source": [
    "A popular quote from computer scientist *Tom Mitchell* defines machine learning more\n",
    "formally:\n",
    "\n",
    "“*A computer program is said to learn from experience E with respect\n",
    "to some class of tasks T and performance measure P, if its performance\n",
    "at tasks in T, as measured by P, improves with experience E.*”"
   ]
  },
  {
   "cell_type": "markdown",
   "metadata": {},
   "source": [
    "Why might you want to use a learning algorithm?\n",
    "\n",
    "* For many problems, it’s *difficult to program* the correct behavior\n",
    "by hand (e.g. recognizing people and objects, understanding human speech)\n",
    "* system needs to *adapt to a changing environment* (e.g. spam\n",
    "detection)\n",
    "* want the system to perform *better* than the human programmers\n",
    "* privacy/fairness (e.g. ranking search results)"
   ]
  },
  {
   "cell_type": "markdown",
   "metadata": {},
   "source": [
    "It’s similar to statistics...\n",
    "* Both fields try to uncover patterns in data\n",
    "* Both fields draw heavily on calculus, probability, and linear algebra,\n",
    "and share many of the same core algorithms"
   ]
  },
  {
   "cell_type": "markdown",
   "metadata": {},
   "source": [
    "ML and statistics are both data analysis fields, but they have different goals, approaches, and types of models:\n",
    "* Goal\n",
    "    * Statistics is used to make inferences about a population based on a sample, while ML is used to make repeatable predictions from data\n",
    "* Approach\n",
    "    * Statistical models define mathematical relationships between variables, while ML models learn from data without explicit programming.\n",
    "* Data\n",
    "    * ML requires large amounts of data, while statistics does not involve multiple subsets of data."
   ]
  },
  {
   "cell_type": "markdown",
   "metadata": {},
   "source": [
    "The major difference between machine learning and statistics is their purpose. \n",
    "* Machine learning models are designed to make the most accurate predictions possible. \n",
    "* Statistical models are designed for inference about the relationships between variables"
   ]
  },
  {
   "cell_type": "markdown",
   "metadata": {},
   "source": [
    "## Machine Learning Methods "
   ]
  },
  {
   "cell_type": "markdown",
   "metadata": {},
   "source": [
    "First, we will discuss types of experience"
   ]
  },
  {
   "cell_type": "markdown",
   "metadata": {},
   "source": [
    "Tasks (& experience) are generally classified into broad categories.\n",
    "\n",
    "These categories are based on \n",
    "* how learning is received \n",
    "* or how feedback on the learning is given to the system developed."
   ]
  },
  {
   "cell_type": "markdown",
   "metadata": {},
   "source": [
    "Types of machine learning:\n",
    "1. **Supervised learning**\n",
    "*  a program predicts an output for an input by learning from pairs of labeled inputs and outputs;\n",
    "* that is, the program learns from examples of the right answers\n",
    "* algorithm needs to be able to “learn” by comparing its actual output with the “taught” outputs to find errors, and modify the model accordingly.\n",
    "* examples:\n",
    "    * use historical stock market information to anticipate upcoming fluctuations. \n",
    "    * be employed to filter out spam emails. \n",
    "    * tagged photos of dogs can be used as input data to classify untagged photos of dogs.\n",
    "\n",
    "2. **Unsupervised learning**\n",
    "* no labeled examples – instead,a program attempts to discover “interesting”& hidden patterns in the data\n",
    "* it may also have a goal of feature learning, which allows the computational machine to\n",
    "automatically discover the representations that are needed to classify raw data\n",
    "* example:\n",
    "    * Assume that you have collected data describing the heights and weights of people. \n",
    "    * An example of an unsupervised learning problem is dividing the data points into groups. \n",
    "    * A program might produce groups that correspond to men and women, or children and adults.\n",
    "\n",
    "    Now assume that the data is also labeled with the person's sex. An example of a\n",
    "supervised learning problem is inducing a rule to predict whether a person is male\n",
    "or female based on his or her height and weight. W"
   ]
  },
  {
   "cell_type": "markdown",
   "metadata": {},
   "source": [
    "3. Some types of problems, called **semi-supervised learning problems**, make use of both supervised and unsupervised data\n",
    "* An example of semi-supervised machine learning is `reinforcement learning`,\n",
    "in which a program receives feedback for its decisions, but the feedback may not be\n",
    "associated with a single decision\n",
    "* For example, \n",
    "    a reinforcement learning program that learns to play a side-scrolling video game such as Super Mario Bros. may receive a reward when it completes a level or exceeds a certain score, and a punishment when it loses a life. However, this supervised feedback is not associated with specific decisions to run or pick up fire flowers"
   ]
  },
  {
   "cell_type": "markdown",
   "metadata": {},
   "source": [
    "# Supervised Machine Learning\n"
   ]
  },
  {
   "cell_type": "markdown",
   "metadata": {},
   "source": [
    "This means we are given a training set consisting of inputs and\n",
    "corresponding labels, e.g."
   ]
  }
 ],
 "metadata": {
  "language_info": {
   "name": "python"
  }
 },
 "nbformat": 4,
 "nbformat_minor": 2
}
